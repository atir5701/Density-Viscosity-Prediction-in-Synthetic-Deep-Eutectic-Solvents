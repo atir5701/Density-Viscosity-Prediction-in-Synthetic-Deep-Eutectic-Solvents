{
 "cells": [
  {
   "cell_type": "code",
   "execution_count": 1,
   "metadata": {},
   "outputs": [],
   "source": [
    "import pandas as pd"
   ]
  },
  {
   "cell_type": "markdown",
   "metadata": {},
   "source": [
    "New Update \n",
    "5 fold validation\n",
    "multiply output by 1000 to get scale and then solve"
   ]
  },
  {
   "cell_type": "code",
   "execution_count": 2,
   "metadata": {},
   "outputs": [
    {
     "data": {
      "text/html": [
       "<div>\n",
       "<style scoped>\n",
       "    .dataframe tbody tr th:only-of-type {\n",
       "        vertical-align: middle;\n",
       "    }\n",
       "\n",
       "    .dataframe tbody tr th {\n",
       "        vertical-align: top;\n",
       "    }\n",
       "\n",
       "    .dataframe thead th {\n",
       "        text-align: right;\n",
       "    }\n",
       "</style>\n",
       "<table border=\"1\" class=\"dataframe\">\n",
       "  <thead>\n",
       "    <tr style=\"text-align: right;\">\n",
       "      <th></th>\n",
       "      <th>DES</th>\n",
       "      <th>HBA</th>\n",
       "      <th>HBD</th>\n",
       "      <th>MR</th>\n",
       "      <th>T/K</th>\n",
       "      <th>Dexp</th>\n",
       "      <th>Unnamed: 6</th>\n",
       "      <th>Unnamed: 7</th>\n",
       "      <th>Unnamed: 8</th>\n",
       "      <th>Unnamed: 9</th>\n",
       "      <th>Unnamed: 10</th>\n",
       "      <th>Unnamed: 11</th>\n",
       "      <th>MCI</th>\n",
       "      <th>Tbm</th>\n",
       "      <th>Tcm</th>\n",
       "      <th>Vcm</th>\n",
       "      <th>Pcm</th>\n",
       "      <th>ωm</th>\n",
       "      <th>MW</th>\n",
       "    </tr>\n",
       "  </thead>\n",
       "  <tbody>\n",
       "    <tr>\n",
       "      <th>0</th>\n",
       "      <td>DES2</td>\n",
       "      <td>ChCl</td>\n",
       "      <td>EG</td>\n",
       "      <td>1.2</td>\n",
       "      <td>308.57</td>\n",
       "      <td>1.1163</td>\n",
       "      <td>NaN</td>\n",
       "      <td>NaN</td>\n",
       "      <td>NaN</td>\n",
       "      <td>NaN</td>\n",
       "      <td>NaN</td>\n",
       "      <td>NaN</td>\n",
       "      <td>1.7208</td>\n",
       "      <td>439</td>\n",
       "      <td>610.73</td>\n",
       "      <td>290.69</td>\n",
       "      <td>59.92</td>\n",
       "      <td>0.94</td>\n",
       "      <td>87.6648</td>\n",
       "    </tr>\n",
       "    <tr>\n",
       "      <th>1</th>\n",
       "      <td>DES2</td>\n",
       "      <td>ChCl</td>\n",
       "      <td>EG</td>\n",
       "      <td>1.2</td>\n",
       "      <td>312.56</td>\n",
       "      <td>1.1142</td>\n",
       "      <td>NaN</td>\n",
       "      <td>NaN</td>\n",
       "      <td>NaN</td>\n",
       "      <td>NaN</td>\n",
       "      <td>NaN</td>\n",
       "      <td>NaN</td>\n",
       "      <td>1.7208</td>\n",
       "      <td>439</td>\n",
       "      <td>610.73</td>\n",
       "      <td>290.69</td>\n",
       "      <td>59.92</td>\n",
       "      <td>0.94</td>\n",
       "      <td>87.6648</td>\n",
       "    </tr>\n",
       "    <tr>\n",
       "      <th>2</th>\n",
       "      <td>DES2</td>\n",
       "      <td>ChCl</td>\n",
       "      <td>EG</td>\n",
       "      <td>1.2</td>\n",
       "      <td>313.52</td>\n",
       "      <td>1.1137</td>\n",
       "      <td>NaN</td>\n",
       "      <td>NaN</td>\n",
       "      <td>NaN</td>\n",
       "      <td>NaN</td>\n",
       "      <td>NaN</td>\n",
       "      <td>NaN</td>\n",
       "      <td>1.7208</td>\n",
       "      <td>439</td>\n",
       "      <td>610.73</td>\n",
       "      <td>290.69</td>\n",
       "      <td>59.92</td>\n",
       "      <td>0.94</td>\n",
       "      <td>87.6648</td>\n",
       "    </tr>\n",
       "    <tr>\n",
       "      <th>3</th>\n",
       "      <td>DES2</td>\n",
       "      <td>ChCl</td>\n",
       "      <td>EG</td>\n",
       "      <td>1.2</td>\n",
       "      <td>317.27</td>\n",
       "      <td>1.1116</td>\n",
       "      <td>NaN</td>\n",
       "      <td>NaN</td>\n",
       "      <td>NaN</td>\n",
       "      <td>NaN</td>\n",
       "      <td>NaN</td>\n",
       "      <td>NaN</td>\n",
       "      <td>1.7208</td>\n",
       "      <td>439</td>\n",
       "      <td>610.73</td>\n",
       "      <td>290.69</td>\n",
       "      <td>59.92</td>\n",
       "      <td>0.94</td>\n",
       "      <td>87.6648</td>\n",
       "    </tr>\n",
       "    <tr>\n",
       "      <th>4</th>\n",
       "      <td>DES2</td>\n",
       "      <td>ChCl</td>\n",
       "      <td>EG</td>\n",
       "      <td>1.2</td>\n",
       "      <td>319.62</td>\n",
       "      <td>1.1101</td>\n",
       "      <td>NaN</td>\n",
       "      <td>NaN</td>\n",
       "      <td>NaN</td>\n",
       "      <td>NaN</td>\n",
       "      <td>NaN</td>\n",
       "      <td>NaN</td>\n",
       "      <td>1.7208</td>\n",
       "      <td>439</td>\n",
       "      <td>610.73</td>\n",
       "      <td>290.69</td>\n",
       "      <td>59.92</td>\n",
       "      <td>0.94</td>\n",
       "      <td>87.6648</td>\n",
       "    </tr>\n",
       "  </tbody>\n",
       "</table>\n",
       "</div>"
      ],
      "text/plain": [
       "    DES   HBA HBD   MR     T/K    Dexp  Unnamed: 6  Unnamed: 7  Unnamed: 8  \\\n",
       "0  DES2  ChCl  EG  1.2  308.57  1.1163         NaN         NaN         NaN   \n",
       "1  DES2  ChCl  EG  1.2  312.56  1.1142         NaN         NaN         NaN   \n",
       "2  DES2  ChCl  EG  1.2  313.52  1.1137         NaN         NaN         NaN   \n",
       "3  DES2  ChCl  EG  1.2  317.27  1.1116         NaN         NaN         NaN   \n",
       "4  DES2  ChCl  EG  1.2  319.62  1.1101         NaN         NaN         NaN   \n",
       "\n",
       "   Unnamed: 9  Unnamed: 10  Unnamed: 11     MCI  Tbm     Tcm     Vcm    Pcm  \\\n",
       "0         NaN          NaN          NaN  1.7208  439  610.73  290.69  59.92   \n",
       "1         NaN          NaN          NaN  1.7208  439  610.73  290.69  59.92   \n",
       "2         NaN          NaN          NaN  1.7208  439  610.73  290.69  59.92   \n",
       "3         NaN          NaN          NaN  1.7208  439  610.73  290.69  59.92   \n",
       "4         NaN          NaN          NaN  1.7208  439  610.73  290.69  59.92   \n",
       "\n",
       "     ωm       MW  \n",
       "0  0.94  87.6648  \n",
       "1  0.94  87.6648  \n",
       "2  0.94  87.6648  \n",
       "3  0.94  87.6648  \n",
       "4  0.94  87.6648  "
      ]
     },
     "execution_count": 2,
     "metadata": {},
     "output_type": "execute_result"
    }
   ],
   "source": [
    "data = pd.read_excel('Data.xlsx')\n",
    "data.head()"
   ]
  },
  {
   "cell_type": "code",
   "execution_count": 3,
   "metadata": {},
   "outputs": [
    {
     "data": {
      "text/plain": [
       "Index(['DES', 'HBA', 'HBD', 'MR', 'T/K', 'Dexp', 'MCI', 'Tbm', 'Tcm', 'Vcm',\n",
       "       'Pcm', 'ωm', 'MW'],\n",
       "      dtype='object')"
      ]
     },
     "execution_count": 3,
     "metadata": {},
     "output_type": "execute_result"
    }
   ],
   "source": [
    "data.dropna(axis=1,inplace=True)\n",
    "data.columns"
   ]
  },
  {
   "cell_type": "code",
   "execution_count": 4,
   "metadata": {},
   "outputs": [
    {
     "data": {
      "text/html": [
       "<div>\n",
       "<style scoped>\n",
       "    .dataframe tbody tr th:only-of-type {\n",
       "        vertical-align: middle;\n",
       "    }\n",
       "\n",
       "    .dataframe tbody tr th {\n",
       "        vertical-align: top;\n",
       "    }\n",
       "\n",
       "    .dataframe thead th {\n",
       "        text-align: right;\n",
       "    }\n",
       "</style>\n",
       "<table border=\"1\" class=\"dataframe\">\n",
       "  <thead>\n",
       "    <tr style=\"text-align: right;\">\n",
       "      <th></th>\n",
       "      <th>DES</th>\n",
       "      <th>HBA</th>\n",
       "      <th>HBD</th>\n",
       "      <th>MR</th>\n",
       "      <th>T/K</th>\n",
       "      <th>Dexp</th>\n",
       "      <th>MCI</th>\n",
       "      <th>Tbm</th>\n",
       "      <th>Tcm</th>\n",
       "      <th>Vcm</th>\n",
       "      <th>Pcm</th>\n",
       "      <th>ωm</th>\n",
       "      <th>MW</th>\n",
       "    </tr>\n",
       "  </thead>\n",
       "  <tbody>\n",
       "    <tr>\n",
       "      <th>0</th>\n",
       "      <td>DES2</td>\n",
       "      <td>ChCl</td>\n",
       "      <td>EG</td>\n",
       "      <td>1.2</td>\n",
       "      <td>308.57</td>\n",
       "      <td>1.1163</td>\n",
       "      <td>1.7208</td>\n",
       "      <td>439</td>\n",
       "      <td>610.73</td>\n",
       "      <td>290.69</td>\n",
       "      <td>59.92</td>\n",
       "      <td>0.94</td>\n",
       "      <td>87.6648</td>\n",
       "    </tr>\n",
       "    <tr>\n",
       "      <th>1</th>\n",
       "      <td>DES2</td>\n",
       "      <td>ChCl</td>\n",
       "      <td>EG</td>\n",
       "      <td>1.2</td>\n",
       "      <td>312.56</td>\n",
       "      <td>1.1142</td>\n",
       "      <td>1.7208</td>\n",
       "      <td>439</td>\n",
       "      <td>610.73</td>\n",
       "      <td>290.69</td>\n",
       "      <td>59.92</td>\n",
       "      <td>0.94</td>\n",
       "      <td>87.6648</td>\n",
       "    </tr>\n",
       "    <tr>\n",
       "      <th>2</th>\n",
       "      <td>DES2</td>\n",
       "      <td>ChCl</td>\n",
       "      <td>EG</td>\n",
       "      <td>1.2</td>\n",
       "      <td>313.52</td>\n",
       "      <td>1.1137</td>\n",
       "      <td>1.7208</td>\n",
       "      <td>439</td>\n",
       "      <td>610.73</td>\n",
       "      <td>290.69</td>\n",
       "      <td>59.92</td>\n",
       "      <td>0.94</td>\n",
       "      <td>87.6648</td>\n",
       "    </tr>\n",
       "    <tr>\n",
       "      <th>3</th>\n",
       "      <td>DES2</td>\n",
       "      <td>ChCl</td>\n",
       "      <td>EG</td>\n",
       "      <td>1.2</td>\n",
       "      <td>317.27</td>\n",
       "      <td>1.1116</td>\n",
       "      <td>1.7208</td>\n",
       "      <td>439</td>\n",
       "      <td>610.73</td>\n",
       "      <td>290.69</td>\n",
       "      <td>59.92</td>\n",
       "      <td>0.94</td>\n",
       "      <td>87.6648</td>\n",
       "    </tr>\n",
       "    <tr>\n",
       "      <th>4</th>\n",
       "      <td>DES2</td>\n",
       "      <td>ChCl</td>\n",
       "      <td>EG</td>\n",
       "      <td>1.2</td>\n",
       "      <td>319.62</td>\n",
       "      <td>1.1101</td>\n",
       "      <td>1.7208</td>\n",
       "      <td>439</td>\n",
       "      <td>610.73</td>\n",
       "      <td>290.69</td>\n",
       "      <td>59.92</td>\n",
       "      <td>0.94</td>\n",
       "      <td>87.6648</td>\n",
       "    </tr>\n",
       "  </tbody>\n",
       "</table>\n",
       "</div>"
      ],
      "text/plain": [
       "    DES   HBA HBD   MR     T/K    Dexp     MCI  Tbm     Tcm     Vcm    Pcm  \\\n",
       "0  DES2  ChCl  EG  1.2  308.57  1.1163  1.7208  439  610.73  290.69  59.92   \n",
       "1  DES2  ChCl  EG  1.2  312.56  1.1142  1.7208  439  610.73  290.69  59.92   \n",
       "2  DES2  ChCl  EG  1.2  313.52  1.1137  1.7208  439  610.73  290.69  59.92   \n",
       "3  DES2  ChCl  EG  1.2  317.27  1.1116  1.7208  439  610.73  290.69  59.92   \n",
       "4  DES2  ChCl  EG  1.2  319.62  1.1101  1.7208  439  610.73  290.69  59.92   \n",
       "\n",
       "     ωm       MW  \n",
       "0  0.94  87.6648  \n",
       "1  0.94  87.6648  \n",
       "2  0.94  87.6648  \n",
       "3  0.94  87.6648  \n",
       "4  0.94  87.6648  "
      ]
     },
     "execution_count": 4,
     "metadata": {},
     "output_type": "execute_result"
    }
   ],
   "source": [
    "data.head()"
   ]
  },
  {
   "cell_type": "code",
   "execution_count": 5,
   "metadata": {},
   "outputs": [
    {
     "data": {
      "text/plain": [
       "(494, 13)"
      ]
     },
     "execution_count": 5,
     "metadata": {},
     "output_type": "execute_result"
    }
   ],
   "source": [
    "data.shape"
   ]
  },
  {
   "cell_type": "code",
   "execution_count": 6,
   "metadata": {},
   "outputs": [
    {
     "name": "stdout",
     "output_type": "stream",
     "text": [
      "(494, 5)\n"
     ]
    },
    {
     "data": {
      "text/html": [
       "<div>\n",
       "<style scoped>\n",
       "    .dataframe tbody tr th:only-of-type {\n",
       "        vertical-align: middle;\n",
       "    }\n",
       "\n",
       "    .dataframe tbody tr th {\n",
       "        vertical-align: top;\n",
       "    }\n",
       "\n",
       "    .dataframe thead th {\n",
       "        text-align: right;\n",
       "    }\n",
       "</style>\n",
       "<table border=\"1\" class=\"dataframe\">\n",
       "  <thead>\n",
       "    <tr style=\"text-align: right;\">\n",
       "      <th></th>\n",
       "      <th>MR</th>\n",
       "      <th>T/K</th>\n",
       "      <th>MCI</th>\n",
       "      <th>ωm</th>\n",
       "      <th>MW</th>\n",
       "    </tr>\n",
       "  </thead>\n",
       "  <tbody>\n",
       "    <tr>\n",
       "      <th>0</th>\n",
       "      <td>1.2</td>\n",
       "      <td>308.57</td>\n",
       "      <td>1.7208</td>\n",
       "      <td>0.94</td>\n",
       "      <td>87.6648</td>\n",
       "    </tr>\n",
       "    <tr>\n",
       "      <th>1</th>\n",
       "      <td>1.2</td>\n",
       "      <td>312.56</td>\n",
       "      <td>1.7208</td>\n",
       "      <td>0.94</td>\n",
       "      <td>87.6648</td>\n",
       "    </tr>\n",
       "    <tr>\n",
       "      <th>2</th>\n",
       "      <td>1.2</td>\n",
       "      <td>313.52</td>\n",
       "      <td>1.7208</td>\n",
       "      <td>0.94</td>\n",
       "      <td>87.6648</td>\n",
       "    </tr>\n",
       "    <tr>\n",
       "      <th>3</th>\n",
       "      <td>1.2</td>\n",
       "      <td>317.27</td>\n",
       "      <td>1.7208</td>\n",
       "      <td>0.94</td>\n",
       "      <td>87.6648</td>\n",
       "    </tr>\n",
       "    <tr>\n",
       "      <th>4</th>\n",
       "      <td>1.2</td>\n",
       "      <td>319.62</td>\n",
       "      <td>1.7208</td>\n",
       "      <td>0.94</td>\n",
       "      <td>87.6648</td>\n",
       "    </tr>\n",
       "  </tbody>\n",
       "</table>\n",
       "</div>"
      ],
      "text/plain": [
       "    MR     T/K     MCI    ωm       MW\n",
       "0  1.2  308.57  1.7208  0.94  87.6648\n",
       "1  1.2  312.56  1.7208  0.94  87.6648\n",
       "2  1.2  313.52  1.7208  0.94  87.6648\n",
       "3  1.2  317.27  1.7208  0.94  87.6648\n",
       "4  1.2  319.62  1.7208  0.94  87.6648"
      ]
     },
     "execution_count": 6,
     "metadata": {},
     "output_type": "execute_result"
    }
   ],
   "source": [
    "train=data[['MR','T/K','MCI','ωm','MW']]\n",
    "Y=data['Dexp']\n",
    "\n",
    "Train=pd.DataFrame(train)\n",
    "print(Train.shape)\n",
    "Train.head()"
   ]
  },
  {
   "cell_type": "code",
   "execution_count": 7,
   "metadata": {},
   "outputs": [
    {
     "data": {
      "text/html": [
       "<div>\n",
       "<style scoped>\n",
       "    .dataframe tbody tr th:only-of-type {\n",
       "        vertical-align: middle;\n",
       "    }\n",
       "\n",
       "    .dataframe tbody tr th {\n",
       "        vertical-align: top;\n",
       "    }\n",
       "\n",
       "    .dataframe thead th {\n",
       "        text-align: right;\n",
       "    }\n",
       "</style>\n",
       "<table border=\"1\" class=\"dataframe\">\n",
       "  <thead>\n",
       "    <tr style=\"text-align: right;\">\n",
       "      <th></th>\n",
       "      <th>MR</th>\n",
       "      <th>T/K</th>\n",
       "      <th>MCI</th>\n",
       "      <th>ωm</th>\n",
       "      <th>MW</th>\n",
       "    </tr>\n",
       "  </thead>\n",
       "  <tbody>\n",
       "    <tr>\n",
       "      <th>0</th>\n",
       "      <td>1.2</td>\n",
       "      <td>308.57</td>\n",
       "      <td>1.7208</td>\n",
       "      <td>0.94</td>\n",
       "      <td>87.6648</td>\n",
       "    </tr>\n",
       "    <tr>\n",
       "      <th>1</th>\n",
       "      <td>1.2</td>\n",
       "      <td>312.56</td>\n",
       "      <td>1.7208</td>\n",
       "      <td>0.94</td>\n",
       "      <td>87.6648</td>\n",
       "    </tr>\n",
       "    <tr>\n",
       "      <th>2</th>\n",
       "      <td>1.2</td>\n",
       "      <td>313.52</td>\n",
       "      <td>1.7208</td>\n",
       "      <td>0.94</td>\n",
       "      <td>87.6648</td>\n",
       "    </tr>\n",
       "    <tr>\n",
       "      <th>3</th>\n",
       "      <td>1.2</td>\n",
       "      <td>317.27</td>\n",
       "      <td>1.7208</td>\n",
       "      <td>0.94</td>\n",
       "      <td>87.6648</td>\n",
       "    </tr>\n",
       "    <tr>\n",
       "      <th>4</th>\n",
       "      <td>1.2</td>\n",
       "      <td>319.62</td>\n",
       "      <td>1.7208</td>\n",
       "      <td>0.94</td>\n",
       "      <td>87.6648</td>\n",
       "    </tr>\n",
       "  </tbody>\n",
       "</table>\n",
       "</div>"
      ],
      "text/plain": [
       "    MR     T/K     MCI    ωm       MW\n",
       "0  1.2  308.57  1.7208  0.94  87.6648\n",
       "1  1.2  312.56  1.7208  0.94  87.6648\n",
       "2  1.2  313.52  1.7208  0.94  87.6648\n",
       "3  1.2  317.27  1.7208  0.94  87.6648\n",
       "4  1.2  319.62  1.7208  0.94  87.6648"
      ]
     },
     "execution_count": 7,
     "metadata": {},
     "output_type": "execute_result"
    }
   ],
   "source": [
    "Train_normalized = Train.copy()\n",
    "Train_normalized.head()"
   ]
  },
  {
   "cell_type": "code",
   "execution_count": 8,
   "metadata": {},
   "outputs": [
    {
     "data": {
      "text/plain": [
       "array([[-1.00486024, -1.54977752, -1.6558104 , -1.00871107, -1.5159537 ],\n",
       "       [-1.00486024, -1.27090488, -1.6558104 , -1.00871107, -1.5159537 ],\n",
       "       [-1.00486024, -1.20380771, -1.6558104 , -1.00871107, -1.5159537 ],\n",
       "       ...,\n",
       "       [ 1.32931354,  0.86781758,  1.9013352 , -0.1083716 ,  0.71505092],\n",
       "       [ 1.32931354,  1.30464815,  1.9013352 , -0.1083716 ,  0.71505092],\n",
       "       [ 1.32931354,  1.50803646,  1.9013352 , -0.1083716 ,  0.71505092]])"
      ]
     },
     "execution_count": 8,
     "metadata": {},
     "output_type": "execute_result"
    }
   ],
   "source": [
    "from sklearn.preprocessing import StandardScaler\n",
    "object = StandardScaler()\n",
    "object.fit(Train)\n",
    "train_normalized = object.fit_transform(Train_normalized)\n",
    "train_normalized"
   ]
  },
  {
   "cell_type": "code",
   "execution_count": 9,
   "metadata": {},
   "outputs": [],
   "source": [
    "from sklearn.model_selection import train_test_split\n",
    "\n",
    "x_train, x_test, y_train, y_test = train_test_split(Train, Y, test_size=0.3, random_state=42,shuffle=True)\n",
    "\n",
    "x_trainN,x_testN,y_train,y_test = train_test_split(train_normalized,Y,test_size=0.3,random_state=42,shuffle=True)"
   ]
  },
  {
   "cell_type": "markdown",
   "metadata": {},
   "source": [
    "Regression Model\n",
    "\n",
    "i) Linear Regression\n",
    "ii) Gradient Boosting Regression\n",
    "iii) SVR\n",
    "iv) Neural Network"
   ]
  },
  {
   "cell_type": "code",
   "execution_count": 10,
   "metadata": {},
   "outputs": [],
   "source": [
    "from sklearn.linear_model import LinearRegression"
   ]
  },
  {
   "cell_type": "code",
   "execution_count": 11,
   "metadata": {},
   "outputs": [],
   "source": [
    "regression = LinearRegression()\n",
    "regression.fit(x_train,y_train)\n",
    "prediction = regression.predict(x_test)"
   ]
  },
  {
   "cell_type": "code",
   "execution_count": 12,
   "metadata": {},
   "outputs": [],
   "source": [
    "ytest=list(y_test)"
   ]
  },
  {
   "cell_type": "code",
   "execution_count": 13,
   "metadata": {},
   "outputs": [
    {
     "name": "stdout",
     "output_type": "stream",
     "text": [
      "Mean_Squared_Error 0.003947776360519527\n",
      "Root Mean_Squared_Error 0.06283133263364328\n",
      "Mean Absolute Error 0.04907120224886622\n",
      "Mean Average Percentage Error 4.303188926167233\n"
     ]
    }
   ],
   "source": [
    "from sklearn.metrics import mean_squared_error\n",
    "errors = mean_squared_error(y_test, prediction)\n",
    "print(\"Mean_Squared_Error \" + str(errors))\n",
    "errors = mean_squared_error(y_test,prediction,squared=False)\n",
    "print(\"Root Mean_Squared_Error \" + str(errors))\n",
    "\n",
    "# MAE\n",
    "\n",
    "diff=0\n",
    "avg=0\n",
    "for i in range(len(y_test)):\n",
    "    diff+=abs(ytest[i]-prediction[i])\n",
    "    avg+=(abs(ytest[i]-prediction[i])/(ytest[i]))\n",
    "diff/=len(ytest)\n",
    "avg/=len(ytest)\n",
    "print(\"Mean Absolute Error \"+str(diff))\n",
    "print(\"Mean Average Percentage Error \"+str(avg*100))\n",
    "\n"
   ]
  },
  {
   "cell_type": "code",
   "execution_count": 14,
   "metadata": {},
   "outputs": [
    {
     "name": "stdout",
     "output_type": "stream",
     "text": [
      "{'fit_time': array([0.00177646, 0.00098753, 0.00099659, 0.00099826, 0.        ]), 'score_time': array([0.00100327, 0.00099635, 0.        , 0.        , 0.00099611]), 'test_score': array([-0.00390405, -0.0040653 , -0.00408596, -0.00452707, -0.00447803]), 'train_score': array([-0.00418337, -0.00413754, -0.00413161, -0.00402728, -0.00403158])}\n"
     ]
    }
   ],
   "source": [
    "# 5 fold validation\n",
    "\n",
    "from sklearn.model_selection import KFold\n",
    "from sklearn.model_selection import cross_validate\n",
    "from sklearn.linear_model import LinearRegression\n",
    "model = LinearRegression()\n",
    "kfold = KFold(n_splits=5, shuffle=True, random_state=42)\n",
    "results = cross_validate(model, train_normalized, Y, cv=kfold,return_train_score=True ,scoring='neg_mean_squared_error')\n",
    "\n",
    "print(results)\n",
    "# print(\"Training Accuracy scores : \" + str(results['train_accuracy']))\n",
    "# print(\"Validation Accuracy scores : \" + str(results['test_accuracy']))\n",
    "# print(\"Validation F1 scores : \" + str(results['test_f1']))\n",
    "# print(\"Mean Validation F1 Score : \" + str(results['test_f1']))\n"
   ]
  },
  {
   "cell_type": "code",
   "execution_count": 15,
   "metadata": {},
   "outputs": [],
   "source": [
    "regression = LinearRegression()\n",
    "regression.fit(x_trainN,y_train)\n",
    "prediction_N = regression.predict(x_testN)"
   ]
  },
  {
   "cell_type": "code",
   "execution_count": 16,
   "metadata": {},
   "outputs": [
    {
     "name": "stdout",
     "output_type": "stream",
     "text": [
      "Mean_Squared_Error 0.0039477763605195145\n",
      "Root Mean_Squared_Error 0.06283133263364318\n",
      "Mean Absolute Error 0.0490712022488661\n",
      "Mean Average Percentage Error 641.1751499989163\n"
     ]
    }
   ],
   "source": [
    "from sklearn.metrics import mean_squared_error\n",
    "errors = mean_squared_error(y_test, prediction_N)\n",
    "print(\"Mean_Squared_Error \" + str(errors))\n",
    "errors = mean_squared_error(y_test,prediction_N,squared=False)\n",
    "print(\"Root Mean_Squared_Error \" + str(errors))\n",
    "\n",
    "# MAE\n",
    "\n",
    "diff=0\n",
    "avg=0\n",
    "for i in range(len(y_test)):\n",
    "    diff+=abs(ytest[i]-prediction_N[i])\n",
    "    avg+=(abs(ytest[i]-prediction_N[i])/(ytest[i]))\n",
    "diff/=len(ytest)\n",
    "print(\"Mean Absolute Error \"+str(diff))\n",
    "print(\"Mean Average Percentage Error \"+str(avg*100))\n",
    "\n"
   ]
  },
  {
   "cell_type": "code",
   "execution_count": 17,
   "metadata": {},
   "outputs": [],
   "source": [
    "model = LinearRegression()\n",
    "kfold = KFold(n_splits=5, shuffle=True, random_state=42)\n",
    "results = cross_validate(model, train, Y, cv=kfold,return_train_score=True ,scoring='neg_mean_squared_error')"
   ]
  },
  {
   "cell_type": "markdown",
   "metadata": {},
   "source": [
    "SVR\n"
   ]
  },
  {
   "cell_type": "code",
   "execution_count": 18,
   "metadata": {},
   "outputs": [
    {
     "name": "stdout",
     "output_type": "stream",
     "text": [
      "Fitting 5 folds for each of 24 candidates, totalling 120 fits\n",
      "[CV 1/5] END .......C=0.1, gamma=1, kernel=rbf;, score=-0.036 total time=   0.0s\n",
      "[CV 2/5] END .......C=0.1, gamma=1, kernel=rbf;, score=-0.058 total time=   0.0s\n",
      "[CV 3/5] END .......C=0.1, gamma=1, kernel=rbf;, score=-0.015 total time=   0.0s\n",
      "[CV 4/5] END .......C=0.1, gamma=1, kernel=rbf;, score=-0.003 total time=   0.0s\n",
      "[CV 5/5] END .......C=0.1, gamma=1, kernel=rbf;, score=-0.082 total time=   0.0s\n",
      "[CV 1/5] END .....C=0.1, gamma=1, kernel=linear;, score=0.159 total time=   0.0s\n",
      "[CV 2/5] END .....C=0.1, gamma=1, kernel=linear;, score=0.004 total time=   0.0s\n",
      "[CV 3/5] END .....C=0.1, gamma=1, kernel=linear;, score=0.167 total time=   0.0s\n",
      "[CV 4/5] END .....C=0.1, gamma=1, kernel=linear;, score=0.088 total time=   0.0s\n",
      "[CV 5/5] END .....C=0.1, gamma=1, kernel=linear;, score=0.061 total time=   0.0s\n",
      "[CV 1/5] END ......C=0.1, gamma=0.1, kernel=rbf;, score=0.034 total time=   0.0s\n",
      "[CV 2/5] END ......C=0.1, gamma=0.1, kernel=rbf;, score=0.001 total time=   0.0s\n",
      "[CV 3/5] END ......C=0.1, gamma=0.1, kernel=rbf;, score=0.103 total time=   0.0s\n",
      "[CV 4/5] END ......C=0.1, gamma=0.1, kernel=rbf;, score=0.089 total time=   0.0s\n",
      "[CV 5/5] END .....C=0.1, gamma=0.1, kernel=rbf;, score=-0.000 total time=   0.0s\n",
      "[CV 1/5] END ...C=0.1, gamma=0.1, kernel=linear;, score=0.159 total time=   0.0s\n",
      "[CV 2/5] END ...C=0.1, gamma=0.1, kernel=linear;, score=0.004 total time=   0.0s\n",
      "[CV 3/5] END ...C=0.1, gamma=0.1, kernel=linear;, score=0.167 total time=   0.0s\n",
      "[CV 4/5] END ...C=0.1, gamma=0.1, kernel=linear;, score=0.088 total time=   0.0s\n",
      "[CV 5/5] END ...C=0.1, gamma=0.1, kernel=linear;, score=0.061 total time=   0.0s\n",
      "[CV 1/5] END .....C=0.1, gamma=0.01, kernel=rbf;, score=0.137 total time=   0.0s\n",
      "[CV 2/5] END ....C=0.1, gamma=0.01, kernel=rbf;, score=-0.001 total time=   0.0s\n",
      "[CV 3/5] END .....C=0.1, gamma=0.01, kernel=rbf;, score=0.191 total time=   0.0s\n",
      "[CV 4/5] END .....C=0.1, gamma=0.01, kernel=rbf;, score=0.130 total time=   0.0s\n",
      "[CV 5/5] END .....C=0.1, gamma=0.01, kernel=rbf;, score=0.007 total time=   0.0s\n",
      "[CV 1/5] END ..C=0.1, gamma=0.01, kernel=linear;, score=0.159 total time=   0.0s\n",
      "[CV 2/5] END ..C=0.1, gamma=0.01, kernel=linear;, score=0.004 total time=   0.0s\n",
      "[CV 3/5] END ..C=0.1, gamma=0.01, kernel=linear;, score=0.167 total time=   0.0s\n",
      "[CV 4/5] END ..C=0.1, gamma=0.01, kernel=linear;, score=0.088 total time=   0.0s\n",
      "[CV 5/5] END ..C=0.1, gamma=0.01, kernel=linear;, score=0.061 total time=   0.0s\n",
      "[CV 1/5] END .........C=1, gamma=1, kernel=rbf;, score=-0.036 total time=   0.0s\n",
      "[CV 2/5] END .........C=1, gamma=1, kernel=rbf;, score=-0.058 total time=   0.0s\n",
      "[CV 3/5] END .........C=1, gamma=1, kernel=rbf;, score=-0.015 total time=   0.0s\n",
      "[CV 4/5] END .........C=1, gamma=1, kernel=rbf;, score=-0.003 total time=   0.0s\n",
      "[CV 5/5] END .........C=1, gamma=1, kernel=rbf;, score=-0.082 total time=   0.0s\n",
      "[CV 1/5] END .......C=1, gamma=1, kernel=linear;, score=0.330 total time=   0.4s\n",
      "[CV 2/5] END .......C=1, gamma=1, kernel=linear;, score=0.073 total time=   0.4s\n",
      "[CV 3/5] END .......C=1, gamma=1, kernel=linear;, score=0.241 total time=   0.3s\n",
      "[CV 4/5] END .......C=1, gamma=1, kernel=linear;, score=0.186 total time=   0.5s\n",
      "[CV 5/5] END .......C=1, gamma=1, kernel=linear;, score=0.168 total time=   0.4s\n",
      "[CV 1/5] END ........C=1, gamma=0.1, kernel=rbf;, score=0.034 total time=   0.0s\n",
      "[CV 2/5] END ........C=1, gamma=0.1, kernel=rbf;, score=0.001 total time=   0.0s\n",
      "[CV 3/5] END ........C=1, gamma=0.1, kernel=rbf;, score=0.103 total time=   0.0s\n",
      "[CV 4/5] END ........C=1, gamma=0.1, kernel=rbf;, score=0.089 total time=   0.0s\n",
      "[CV 5/5] END .......C=1, gamma=0.1, kernel=rbf;, score=-0.000 total time=   0.0s\n",
      "[CV 1/5] END .....C=1, gamma=0.1, kernel=linear;, score=0.330 total time=   0.4s\n",
      "[CV 2/5] END .....C=1, gamma=0.1, kernel=linear;, score=0.073 total time=   0.4s\n",
      "[CV 3/5] END .....C=1, gamma=0.1, kernel=linear;, score=0.241 total time=   0.3s\n",
      "[CV 4/5] END .....C=1, gamma=0.1, kernel=linear;, score=0.186 total time=   0.5s\n",
      "[CV 5/5] END .....C=1, gamma=0.1, kernel=linear;, score=0.168 total time=   0.4s\n",
      "[CV 1/5] END .......C=1, gamma=0.01, kernel=rbf;, score=0.138 total time=   0.0s\n",
      "[CV 2/5] END .......C=1, gamma=0.01, kernel=rbf;, score=0.002 total time=   0.0s\n",
      "[CV 3/5] END .......C=1, gamma=0.01, kernel=rbf;, score=0.190 total time=   0.0s\n",
      "[CV 4/5] END .......C=1, gamma=0.01, kernel=rbf;, score=0.130 total time=   0.0s\n",
      "[CV 5/5] END .......C=1, gamma=0.01, kernel=rbf;, score=0.008 total time=   0.0s\n",
      "[CV 1/5] END ....C=1, gamma=0.01, kernel=linear;, score=0.330 total time=   0.4s\n",
      "[CV 2/5] END ....C=1, gamma=0.01, kernel=linear;, score=0.073 total time=   0.4s\n",
      "[CV 3/5] END ....C=1, gamma=0.01, kernel=linear;, score=0.241 total time=   0.3s\n",
      "[CV 4/5] END ....C=1, gamma=0.01, kernel=linear;, score=0.186 total time=   0.5s\n",
      "[CV 5/5] END ....C=1, gamma=0.01, kernel=linear;, score=0.168 total time=   0.4s\n",
      "[CV 1/5] END ........C=10, gamma=1, kernel=rbf;, score=-0.036 total time=   0.0s\n",
      "[CV 2/5] END ........C=10, gamma=1, kernel=rbf;, score=-0.058 total time=   0.0s\n",
      "[CV 3/5] END ........C=10, gamma=1, kernel=rbf;, score=-0.015 total time=   0.0s\n",
      "[CV 4/5] END ........C=10, gamma=1, kernel=rbf;, score=-0.003 total time=   0.0s\n",
      "[CV 5/5] END ........C=10, gamma=1, kernel=rbf;, score=-0.082 total time=   0.0s\n",
      "[CV 1/5] END .....C=10, gamma=1, kernel=linear;, score=-1.242 total time=   1.3s\n",
      "[CV 2/5] END .....C=10, gamma=1, kernel=linear;, score=-2.511 total time=   1.6s\n",
      "[CV 3/5] END .....C=10, gamma=1, kernel=linear;, score=-2.022 total time=   2.3s\n",
      "[CV 4/5] END .....C=10, gamma=1, kernel=linear;, score=-2.342 total time=   1.5s\n",
      "[CV 5/5] END .....C=10, gamma=1, kernel=linear;, score=-1.790 total time=   1.4s\n",
      "[CV 1/5] END .......C=10, gamma=0.1, kernel=rbf;, score=0.034 total time=   0.0s\n",
      "[CV 2/5] END .......C=10, gamma=0.1, kernel=rbf;, score=0.001 total time=   0.0s\n",
      "[CV 3/5] END .......C=10, gamma=0.1, kernel=rbf;, score=0.103 total time=   0.0s\n",
      "[CV 4/5] END .......C=10, gamma=0.1, kernel=rbf;, score=0.089 total time=   0.0s\n",
      "[CV 5/5] END ......C=10, gamma=0.1, kernel=rbf;, score=-0.000 total time=   0.0s\n",
      "[CV 1/5] END ...C=10, gamma=0.1, kernel=linear;, score=-1.242 total time=   1.3s\n",
      "[CV 2/5] END ...C=10, gamma=0.1, kernel=linear;, score=-2.511 total time=   1.5s\n",
      "[CV 3/5] END ...C=10, gamma=0.1, kernel=linear;, score=-2.022 total time=   2.2s\n",
      "[CV 4/5] END ...C=10, gamma=0.1, kernel=linear;, score=-2.342 total time=   1.4s\n",
      "[CV 5/5] END ...C=10, gamma=0.1, kernel=linear;, score=-1.790 total time=   1.4s\n",
      "[CV 1/5] END ......C=10, gamma=0.01, kernel=rbf;, score=0.138 total time=   0.0s\n",
      "[CV 2/5] END ......C=10, gamma=0.01, kernel=rbf;, score=0.002 total time=   0.0s\n",
      "[CV 3/5] END ......C=10, gamma=0.01, kernel=rbf;, score=0.190 total time=   0.0s\n",
      "[CV 4/5] END ......C=10, gamma=0.01, kernel=rbf;, score=0.130 total time=   0.0s\n",
      "[CV 5/5] END ......C=10, gamma=0.01, kernel=rbf;, score=0.008 total time=   0.0s\n",
      "[CV 1/5] END ..C=10, gamma=0.01, kernel=linear;, score=-1.242 total time=   1.3s\n",
      "[CV 2/5] END ..C=10, gamma=0.01, kernel=linear;, score=-2.511 total time=   1.5s\n",
      "[CV 3/5] END ..C=10, gamma=0.01, kernel=linear;, score=-2.022 total time=   2.1s\n",
      "[CV 4/5] END ..C=10, gamma=0.01, kernel=linear;, score=-2.342 total time=   1.4s\n",
      "[CV 5/5] END ..C=10, gamma=0.01, kernel=linear;, score=-1.790 total time=   1.4s\n",
      "[CV 1/5] END .......C=100, gamma=1, kernel=rbf;, score=-0.036 total time=   0.0s\n",
      "[CV 2/5] END .......C=100, gamma=1, kernel=rbf;, score=-0.058 total time=   0.0s\n",
      "[CV 3/5] END .......C=100, gamma=1, kernel=rbf;, score=-0.015 total time=   0.0s\n",
      "[CV 4/5] END .......C=100, gamma=1, kernel=rbf;, score=-0.003 total time=   0.0s\n",
      "[CV 5/5] END .......C=100, gamma=1, kernel=rbf;, score=-0.082 total time=   0.0s\n",
      "[CV 1/5] END ..C=100, gamma=1, kernel=linear;, score=-153.255 total time=   1.9s\n",
      "[CV 2/5] END ..C=100, gamma=1, kernel=linear;, score=-312.763 total time=   1.3s\n",
      "[CV 3/5] END ..C=100, gamma=1, kernel=linear;, score=-411.226 total time=   2.4s\n",
      "[CV 4/5] END ..C=100, gamma=1, kernel=linear;, score=-249.477 total time=   1.7s\n",
      "[CV 5/5] END ..C=100, gamma=1, kernel=linear;, score=-201.408 total time=   1.2s\n",
      "[CV 1/5] END ......C=100, gamma=0.1, kernel=rbf;, score=0.034 total time=   0.0s\n",
      "[CV 2/5] END ......C=100, gamma=0.1, kernel=rbf;, score=0.001 total time=   0.0s\n",
      "[CV 3/5] END ......C=100, gamma=0.1, kernel=rbf;, score=0.103 total time=   0.0s\n",
      "[CV 4/5] END ......C=100, gamma=0.1, kernel=rbf;, score=0.089 total time=   0.0s\n",
      "[CV 5/5] END .....C=100, gamma=0.1, kernel=rbf;, score=-0.000 total time=   0.0s\n",
      "[CV 1/5] END C=100, gamma=0.1, kernel=linear;, score=-153.255 total time=   1.9s\n",
      "[CV 2/5] END C=100, gamma=0.1, kernel=linear;, score=-312.763 total time=   1.4s\n",
      "[CV 3/5] END C=100, gamma=0.1, kernel=linear;, score=-411.226 total time=   2.4s\n",
      "[CV 4/5] END C=100, gamma=0.1, kernel=linear;, score=-249.477 total time=   1.7s\n",
      "[CV 5/5] END C=100, gamma=0.1, kernel=linear;, score=-201.408 total time=   1.2s\n",
      "[CV 1/5] END .....C=100, gamma=0.01, kernel=rbf;, score=0.138 total time=   0.0s\n",
      "[CV 2/5] END .....C=100, gamma=0.01, kernel=rbf;, score=0.002 total time=   0.0s\n",
      "[CV 3/5] END .....C=100, gamma=0.01, kernel=rbf;, score=0.190 total time=   0.0s\n",
      "[CV 4/5] END .....C=100, gamma=0.01, kernel=rbf;, score=0.130 total time=   0.0s\n",
      "[CV 5/5] END .....C=100, gamma=0.01, kernel=rbf;, score=0.008 total time=   0.0s\n",
      "[CV 1/5] END C=100, gamma=0.01, kernel=linear;, score=-153.255 total time=   1.9s\n",
      "[CV 2/5] END C=100, gamma=0.01, kernel=linear;, score=-312.763 total time=   1.4s\n",
      "[CV 3/5] END C=100, gamma=0.01, kernel=linear;, score=-411.226 total time=   2.4s\n",
      "[CV 4/5] END C=100, gamma=0.01, kernel=linear;, score=-249.477 total time=   1.7s\n",
      "[CV 5/5] END C=100, gamma=0.01, kernel=linear;, score=-201.408 total time=   1.2s\n"
     ]
    },
    {
     "data": {
      "text/plain": [
       "GridSearchCV(estimator=SVR(),\n",
       "             param_grid={'C': [0.1, 1, 10, 100], 'gamma': [1, 0.1, 0.01],\n",
       "                         'kernel': ['rbf', 'linear']},\n",
       "             verbose=3)"
      ]
     },
     "execution_count": 18,
     "metadata": {},
     "output_type": "execute_result"
    }
   ],
   "source": [
    "from sklearn.svm import SVR\n",
    "from sklearn.model_selection import GridSearchCV\n",
    "  \n",
    "# defining parameter range\n",
    "param_grid = {'C': [0.1, 1, 10, 100],\n",
    "              'gamma': [1, 0.1,0.01],\n",
    "              'kernel': ['rbf','linear']} \n",
    "\n",
    "grid = GridSearchCV(SVR(), param_grid, refit = True, verbose = 3)\n",
    "  \n",
    "# fitting the model for grid search\n",
    "grid.fit(x_train, y_train)"
   ]
  },
  {
   "cell_type": "code",
   "execution_count": 19,
   "metadata": {},
   "outputs": [
    {
     "name": "stdout",
     "output_type": "stream",
     "text": [
      "{'C': 1, 'gamma': 1, 'kernel': 'linear'}\n"
     ]
    }
   ],
   "source": [
    "print(grid.best_params_)"
   ]
  },
  {
   "cell_type": "code",
   "execution_count": 32,
   "metadata": {},
   "outputs": [
    {
     "data": {
      "text/plain": [
       "SVR(C=1, gamma=1, kernel='linear')"
      ]
     },
     "execution_count": 32,
     "metadata": {},
     "output_type": "execute_result"
    }
   ],
   "source": [
    "from sklearn.svm import SVR\n",
    "svr = SVR(kernel = 'linear',gamma=1,C=1)\n",
    "svr.fit(x_train,y_train)"
   ]
  },
  {
   "cell_type": "code",
   "execution_count": 34,
   "metadata": {},
   "outputs": [],
   "source": [
    "pred=svr.predict(x_test)"
   ]
  },
  {
   "cell_type": "code",
   "execution_count": 35,
   "metadata": {},
   "outputs": [
    {
     "name": "stdout",
     "output_type": "stream",
     "text": [
      "Mean_Squared_Error 0.004031707983428336\n",
      "Root Mean_Squared_Error 0.06349573200954799\n",
      "Mean Absolute Error 0.051712893938769926\n",
      "Mean Average Percentage Error 4.561330808986933\n"
     ]
    }
   ],
   "source": [
    "from sklearn.metrics import mean_squared_error\n",
    "errors = mean_squared_error(y_test, pred)\n",
    "print(\"Mean_Squared_Error \" + str(errors))\n",
    "errors = mean_squared_error(y_test,pred,squared=False)\n",
    "print(\"Root Mean_Squared_Error \" + str(errors))\n",
    "\n",
    "# MAE\n",
    "\n",
    "diff=0\n",
    "avg=0\n",
    "for i in range(len(y_test)):\n",
    "    diff+=abs(ytest[i]-pred[i])\n",
    "    avg+=(abs(ytest[i]-pred[i])/(ytest[i]))\n",
    "diff/=len(ytest)\n",
    "avg/=len(ytest)\n",
    "print(\"Mean Absolute Error \"+str(diff))\n",
    "print(\"Mean Average Percentage Error \"+str(avg*100))"
   ]
  },
  {
   "cell_type": "code",
   "execution_count": null,
   "metadata": {},
   "outputs": [],
   "source": []
  }
 ],
 "metadata": {
  "kernelspec": {
   "display_name": "Python 3",
   "language": "python",
   "name": "python3"
  },
  "language_info": {
   "codemirror_mode": {
    "name": "ipython",
    "version": 3
   },
   "file_extension": ".py",
   "mimetype": "text/x-python",
   "name": "python",
   "nbconvert_exporter": "python",
   "pygments_lexer": "ipython3",
   "version": "3.10.2"
  },
  "orig_nbformat": 4
 },
 "nbformat": 4,
 "nbformat_minor": 2
}
