{
 "cells": [
  {
   "cell_type": "code",
   "execution_count": 1,
   "metadata": {
    "ExecuteTime": {
     "end_time": "2023-11-03T03:45:29.280719900Z",
     "start_time": "2023-11-03T03:45:29.119721400Z"
    },
    "collapsed": true
   },
   "outputs": [],
   "source": [
    "import pandas as pd\n",
    "import numpy as np\n",
    "from sklearn.model_selection import train_test_split\n",
    "from sklearn import metrics\n",
    "from numpy.linalg import pinv\n",
    "import xgboost as xgb\n",
    "from sklearn.linear_model import SGDRegressor, LinearRegression"
   ]
  },
  {
   "cell_type": "code",
   "execution_count": 2,
   "metadata": {
    "ExecuteTime": {
     "end_time": "2023-11-03T03:45:30.606804300Z",
     "start_time": "2023-11-03T03:45:30.326804Z"
    },
    "collapsed": false
   },
   "outputs": [
    {
     "data": {
      "text/html": [
       "<div>\n",
       "<style scoped>\n",
       "    .dataframe tbody tr th:only-of-type {\n",
       "        vertical-align: middle;\n",
       "    }\n",
       "\n",
       "    .dataframe tbody tr th {\n",
       "        vertical-align: top;\n",
       "    }\n",
       "\n",
       "    .dataframe thead th {\n",
       "        text-align: right;\n",
       "    }\n",
       "</style>\n",
       "<table border=\"1\" class=\"dataframe\">\n",
       "  <thead>\n",
       "    <tr style=\"text-align: right;\">\n",
       "      <th></th>\n",
       "      <th>DES</th>\n",
       "      <th>HBA</th>\n",
       "      <th>HBD</th>\n",
       "      <th>MR</th>\n",
       "      <th>T/K</th>\n",
       "      <th>Dexp</th>\n",
       "      <th>MCI</th>\n",
       "      <th>Tbm</th>\n",
       "      <th>Tcm</th>\n",
       "      <th>Vcm</th>\n",
       "      <th>Pcm</th>\n",
       "      <th>ωm</th>\n",
       "      <th>MW</th>\n",
       "    </tr>\n",
       "  </thead>\n",
       "  <tbody>\n",
       "    <tr>\n",
       "      <th>0</th>\n",
       "      <td>DES2</td>\n",
       "      <td>ChCl</td>\n",
       "      <td>EG</td>\n",
       "      <td>1.2</td>\n",
       "      <td>308.57</td>\n",
       "      <td>1.1163</td>\n",
       "      <td>1.7208</td>\n",
       "      <td>439</td>\n",
       "      <td>610.73</td>\n",
       "      <td>290.69</td>\n",
       "      <td>59.92</td>\n",
       "      <td>0.94</td>\n",
       "      <td>87.6648</td>\n",
       "    </tr>\n",
       "    <tr>\n",
       "      <th>1</th>\n",
       "      <td>DES2</td>\n",
       "      <td>ChCl</td>\n",
       "      <td>EG</td>\n",
       "      <td>1.2</td>\n",
       "      <td>312.56</td>\n",
       "      <td>1.1142</td>\n",
       "      <td>1.7208</td>\n",
       "      <td>439</td>\n",
       "      <td>610.73</td>\n",
       "      <td>290.69</td>\n",
       "      <td>59.92</td>\n",
       "      <td>0.94</td>\n",
       "      <td>87.6648</td>\n",
       "    </tr>\n",
       "    <tr>\n",
       "      <th>2</th>\n",
       "      <td>DES2</td>\n",
       "      <td>ChCl</td>\n",
       "      <td>EG</td>\n",
       "      <td>1.2</td>\n",
       "      <td>313.52</td>\n",
       "      <td>1.1137</td>\n",
       "      <td>1.7208</td>\n",
       "      <td>439</td>\n",
       "      <td>610.73</td>\n",
       "      <td>290.69</td>\n",
       "      <td>59.92</td>\n",
       "      <td>0.94</td>\n",
       "      <td>87.6648</td>\n",
       "    </tr>\n",
       "  </tbody>\n",
       "</table>\n",
       "</div>"
      ],
      "text/plain": [
       "    DES   HBA HBD   MR     T/K    Dexp     MCI  Tbm     Tcm     Vcm    Pcm  \\\n",
       "0  DES2  ChCl  EG  1.2  308.57  1.1163  1.7208  439  610.73  290.69  59.92   \n",
       "1  DES2  ChCl  EG  1.2  312.56  1.1142  1.7208  439  610.73  290.69  59.92   \n",
       "2  DES2  ChCl  EG  1.2  313.52  1.1137  1.7208  439  610.73  290.69  59.92   \n",
       "\n",
       "     ωm       MW  \n",
       "0  0.94  87.6648  \n",
       "1  0.94  87.6648  \n",
       "2  0.94  87.6648  "
      ]
     },
     "execution_count": 2,
     "metadata": {},
     "output_type": "execute_result"
    }
   ],
   "source": [
    "data = pd.read_csv('data_new.csv')\n",
    "data.head(3)"
   ]
  },
  {
   "cell_type": "code",
   "execution_count": 3,
   "metadata": {
    "ExecuteTime": {
     "end_time": "2023-11-03T03:45:39.154886500Z",
     "start_time": "2023-11-03T03:45:38.461304Z"
    },
    "collapsed": false
   },
   "outputs": [],
   "source": [
    "# from matplotlib import pyplot as plt\n",
    "# temp = data.iloc[:,4]\n",
    "# density = data.iloc[:,5]\n",
    "# plt.scatter(temp,density)\n",
    "# plt.show()"
   ]
  },
  {
   "cell_type": "code",
   "execution_count": 4,
   "metadata": {
    "ExecuteTime": {
     "end_time": "2023-11-03T03:45:39.954664200Z",
     "start_time": "2023-11-03T03:45:39.939658900Z"
    },
    "collapsed": false
   },
   "outputs": [
    {
     "name": "stdout",
     "output_type": "stream",
     "text": [
      "(494, 5) (494,)\n"
     ]
    }
   ],
   "source": [
    "X = data[['MR','T/K','MCI','ωm','MW']]\n",
    "y = data['Dexp']\n",
    "print(X.shape, y.shape)"
   ]
  },
  {
   "cell_type": "code",
   "execution_count": 5,
   "metadata": {
    "ExecuteTime": {
     "end_time": "2023-11-03T03:45:40.441412400Z",
     "start_time": "2023-11-03T03:45:40.416412400Z"
    },
    "collapsed": false
   },
   "outputs": [],
   "source": [
    "from sklearn.model_selection import train_test_split\n",
    "\n",
    "X_train, X_test, y_train, y_test = train_test_split(X, y, test_size=0.2, random_state=42, shuffle=True)\n",
    "y_test = y_test.to_numpy()"
   ]
  },
  {
   "cell_type": "code",
   "execution_count": 8,
   "metadata": {
    "ExecuteTime": {
     "end_time": "2023-11-03T03:45:41.038966700Z",
     "start_time": "2023-11-03T03:45:41.019968600Z"
    },
    "collapsed": false
   },
   "outputs": [],
   "source": [
    "# # Without Regularization\n",
    "\n",
    "# lr = LinearRegression()\n",
    "# lr.fit(X_train, y_train)\n",
    "\n",
    "# pred = lr.predict(X_test)\n",
    "\n",
    "# sum = 0\n",
    "# for i in range(len(pred)):\n",
    "#     sum += abs(pred[i] - y_test[i]) / y_test[i]\n",
    "# mape = sum / len(y_test)\n",
    "# print(f'MAPE: {mape*100}')\n",
    "# print(f'Accuracy: {(1 - mape)*100}')"
   ]
  },
  {
   "cell_type": "code",
   "execution_count": 6,
   "metadata": {},
   "outputs": [
    {
     "name": "stdout",
     "output_type": "stream",
     "text": [
      "\n",
      "Objective: reg:gamma\n",
      "MAPE: 0.2905368439971696\n",
      "Accuracy: 99.70946315600283\n",
      "\n",
      "\n",
      "Objective: reg:squarederror\n",
      "MAPE: 0.2874872669564596\n",
      "Accuracy: 99.71251273304354\n",
      "\n",
      "\n",
      "Objective: reg:squaredlogerror\n",
      "MAPE: 0.2555065402356315\n",
      "Accuracy: 99.74449345976437\n",
      "\n",
      "\n",
      "Objective: reg:tweedie\n",
      "MAPE: 0.24419405196512486\n",
      "Accuracy: 99.75580594803488\n",
      "\n",
      "\n",
      "Objective: reg:pseudohubererror\n",
      "MAPE: 0.2702517272963837\n",
      "Accuracy: 99.72974827270362\n",
      "\n",
      "\n",
      "Objective: reg:absoluteerror\n",
      "MAPE: 4.9285095644821535\n",
      "Accuracy: 95.07149043551784\n",
      "\n"
     ]
    }
   ],
   "source": [
    "dtrain = xgb.DMatrix(X_train, label=y_train)\n",
    "dtest = xgb.DMatrix(X_test, label=y_test)\n",
    "\n",
    "objectives = ['reg:gamma', 'reg:squarederror', 'reg:squaredlogerror', 'reg:tweedie', 'reg:pseudohubererror','reg:absoluteerror']\n",
    "\n",
    "for obj in objectives:\n",
    "    params = {\n",
    "        'objective': obj,\n",
    "        'eval_metric': 'mape',\n",
    "        'seed': 42\n",
    "    }\n",
    "\n",
    "    model = xgb.train(params, dtrain, 1000)\n",
    "    pred = model.predict(dtest)\n",
    "\n",
    "    sum = 0\n",
    "    for i in range(len(pred)):\n",
    "        sum += abs(pred[i] - y_test[i]) / y_test[i]\n",
    "    mape = sum / len(y_test)\n",
    "    print(f'\\nObjective: {obj}')\n",
    "    print(f'MAPE: {mape*100}')\n",
    "    print(f'Accuracy: {(1 - mape)*100}\\n')"
   ]
  },
  {
   "cell_type": "code",
   "execution_count": null,
   "metadata": {},
   "outputs": [],
   "source": [
    "dtrain = xgb.DMatrix(X_train, label=y_train)\n",
    "dtest = xgb.DMatrix(X_test, label=y_test)\n",
    "\n",
    "eval_metric = [\"rmse\",\"rmsle\",\"mae\"]\n",
    "objectives = ['reg:gamma', 'reg:squarederror', 'reg:squaredlogerror', 'reg:tweedie', 'reg:pseudohubererror','reg:absoluteerror']\n",
    "\n",
    "for obj in objectives:\n",
    "        print(\"Objective : \"+obj)\n",
    "        for i in eval_metric:\n",
    "\n",
    "                params = {\n",
    "                'objective': obj,\n",
    "                'eval_metric': i,\n",
    "                'seed': 42\n",
    "                }\n",
    "\n",
    "\n",
    "                model = xgb.train(params, dtrain, 1000)\n",
    "                pred = model.predict(dtest)\n",
    "\n",
    "                if i ==\"rmse\":\n",
    "                        sum = 0\n",
    "                        for j in range(len(pred)):\n",
    "                                sum += (pred[j] - y_test[j])**2\n",
    "                        sum/=len(pred)\n",
    "                        sum=(sum)**(0.5)\n",
    "                        sum = round(sum,6)\n",
    "                        print(\"RMSE\")\n",
    "                        print(f'Error:{sum*100}')\n",
    "                        print(f'Accuracy: {(1 - sum)*100}')\n",
    "                        \n",
    "                elif i == \"rmsle\":\n",
    "        \n",
    "                        n = len(y_test)\n",
    "                        msle = round(np.sqrt(np.mean(np.square(np.log1p(pred) - np.log1p(y_test)))),6)\n",
    "                        print(\"RMSLE\")\n",
    "                        print(f'Error:{msle*100}')\n",
    "                        print(f'Accuracy: {(1 - msle)*100}')\n",
    "        \n",
    "                elif i == \"mae\":\n",
    "                        sum = 0\n",
    "                        for i in range(len(pred)):\n",
    "                                sum += abs(pred[i] - y_test[i]) / y_test[i]\n",
    "                        mape = round(sum / len(y_test),6)\n",
    "                        print(\"MAE\")\n",
    "                        print(f'Error: {mape*100}')\n",
    "                        print(f'Accuracy: {(1 - mape)*100}\\n') \n",
    "\n",
    "\n",
    "                                        "
   ]
  },
  {
   "cell_type": "code",
   "execution_count": 16,
   "metadata": {},
   "outputs": [],
   "source": [
    "# X_train=np.array(X_train)\n",
    "# type(X_train)\n",
    "y_train  = np.array(y_train)"
   ]
  },
  {
   "cell_type": "markdown",
   "metadata": {},
   "source": [
    "# K - Fold Validation"
   ]
  },
  {
   "cell_type": "code",
   "execution_count": 19,
   "metadata": {
    "collapsed": false
   },
   "outputs": [
    {
     "name": "stdout",
     "output_type": "stream",
     "text": [
      "Error: 5.723766163251757\n",
      "Accuracy: 94.27623383674825\n",
      "\n"
     ]
    }
   ],
   "source": [
    "from sklearn.model_selection import KFold\n",
    "kf = KFold(n_splits=5)\n",
    "\n",
    "scores = []\n",
    "for train_index, test_index in kf.split(X_train):\n",
    "    x_train, x_test = X_train[train_index], X_train[test_index]\n",
    "    ytrain, ytest = y_train[train_index], y_train[test_index]\n",
    "\n",
    "    dtrain = xgb.DMatrix(x_train, label=ytrain)\n",
    "    dtest = xgb.DMatrix(x_test, label=ytest)\n",
    "\n",
    "    params = {\n",
    "                'objective': \"reg:tweedie\",\n",
    "                'eval_metric': \"mape\",\n",
    "                'seed': 42\n",
    "            }\n",
    "    \n",
    "    model = xgb.train(params, dtrain, 1000)\n",
    "    pred = model.predict(dtest)\n",
    "\n",
    "    sum = 0\n",
    "    for i in range(len(pred)):\n",
    "        sum += abs(pred[i] - y_test[i]) / y_test[i]\n",
    "    mape = sum / len(y_test)\n",
    "    \n",
    "    scores.append(mape)\n",
    "\n",
    "avg = np.mean(np.array(scores))\n",
    "\n",
    "print(f'Error: {avg*100}')\n",
    "print(f'Accuracy: {(1 - avg)*100}\\n') \n"
   ]
  },
  {
   "cell_type": "code",
   "execution_count": null,
   "metadata": {},
   "outputs": [],
   "source": []
  }
 ],
 "metadata": {
  "kernelspec": {
   "display_name": "Python 3",
   "language": "python",
   "name": "python3"
  },
  "language_info": {
   "codemirror_mode": {
    "name": "ipython",
    "version": 3
   },
   "file_extension": ".py",
   "mimetype": "text/x-python",
   "name": "python",
   "nbconvert_exporter": "python",
   "pygments_lexer": "ipython3",
   "version": "3.10.2"
  }
 },
 "nbformat": 4,
 "nbformat_minor": 0
}
